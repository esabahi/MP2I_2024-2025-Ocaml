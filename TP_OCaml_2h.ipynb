{
 "cells": [
  {
   "cell_type": "markdown",
   "id": "887dfcda",
   "metadata": {},
   "source": [
    "# TP OCaml - 2h \n",
    "\n",
    "Ce TP va vous guider à travers différents concepts de base en OCaml. Vous allez pratiquer la déclaration de variables, les boucles, les conditions, la définition de fonctions, la manipulation des listes et des tableaux, ainsi que travailler sur les structures de piles et files.\n",
    "\n",
    "## Objectifs\n",
    "\n",
    "1. Déclarer des variables avec différents types de données.\n",
    "2. Utiliser des boucles `while` et `for`.\n",
    "3. Utiliser des conditions `if-then-else`.\n",
    "4. Déclarer et utiliser des fonctions.\n",
    "5. Manipuler des listes et des tableaux.\n",
    "6. Travailler sur des exercices autour des piles et des files."
   ]
  },
  {
   "cell_type": "markdown",
   "id": "894f6b08",
   "metadata": {},
   "source": [
    "### 1. Déclarer une variable avec différents types de données\n",
    "\n",
    "En OCaml, on peut déclarer des variables avec différents types de données comme suit :\n",
    "\n",
    "- Entier : `let x = 5;;`\n",
    "- Flottant : `let y = 5.0;;`\n",
    "- Booléen : `let z = true;;`\n",
    "- Chaîne de caractères : `let s = \"hello\";;`\n",
    "\n",
    "**Exercice :** Déclarez une variable pour chaque type de donnée mentionné ci-dessus."
   ]
  },
  {
   "cell_type": "markdown",
   "id": "ad5e9a2a",
   "metadata": {},
   "source": [
    "### 2. Définir une boucle while et for\n",
    "\n",
    "- Boucle `while` :\n",
    "```ocaml\n",
    "let i = ref 0;;\n",
    "while !i < 10 do\n",
    "  print_endline (string_of_int !i);\n",
    "  i := !i + 1\n",
    "done;;\n",
    "```\n",
    "- Boucle `for` :\n",
    "```ocaml\n",
    "for i = 0 to 9 do\n",
    "  print_endline (string_of_int i)\n",
    "done;;\n",
    "```\n",
    "\n",
    "**Exercice :** Écrivez une boucle `while` qui affiche les nombres de 1 à 20 et une boucle `for` qui fait la même chose."
   ]
  },
  {
   "cell_type": "markdown",
   "id": "f017cc0f",
   "metadata": {},
   "source": [
    "### 3. Condition if-then-else\n",
    "\n",
    "En OCaml, on peut utiliser des conditions `if-then-else` de la manière suivante :\n",
    "\n",
    "```ocaml\n",
    "let x = 10;;\n",
    "if x > 5 then print_endline \"x est grand\" else print_endline \"x est petit\";;\n",
    "```\n",
    "\n",
    "**Exercice :** Écrivez un programme qui vérifie si un nombre est pair ou impair."
   ]
  },
  {
   "cell_type": "markdown",
   "id": "974be86c",
   "metadata": {},
   "source": [
    "### 4. Déclarer une fonction\n",
    "\n",
    "En OCaml, on peut déclarer une fonction de la manière suivante :\n",
    "\n",
    "```ocaml\n",
    "let somme a b = a + b;;\n",
    "```\n",
    "\n",
    "**Exercice 1 :** Écrivez une fonction qui calcule le carré d'un nombre.\n",
    "\n",
    "**Exercice 2 :** Écrivez une fonction qui prend deux entiers et retourne le plus grand.\n",
    "\n",
    "**Exercice 3 :** Écrivez une fonction récursive qui calcule la factorielle d'un nombre."
   ]
  },
  {
   "cell_type": "markdown",
   "id": "4dce3b0c",
   "metadata": {},
   "source": [
    "### 5. Créer et manipuler une liste\n",
    "\n",
    "Les listes sont des structures de données importantes en OCaml. Voici un exemple de création et manipulation de listes :\n",
    "\n",
    "```ocaml\n",
    "let ma_liste = [1; 2; 3; 4];;\n",
    "let nouvelle_liste = 0 :: ma_liste;; (* Ajoute 0 au début de la liste *)\n",
    "let somme = List.fold_left (+) 0 ma_liste;; (* Somme des éléments de la liste *)\n",
    "```\n",
    "\n",
    "**Exercice :** Créez une liste d'entiers de 1 à 10 et écrivez une fonction qui calcule la somme des éléments de cette liste."
   ]
  },
  {
   "cell_type": "markdown",
   "id": "d830064e",
   "metadata": {},
   "source": [
    "### 6. Créer et manipuler un tableau\n",
    "\n",
    "Les tableaux en OCaml sont définis et manipulés comme suit :\n",
    "\n",
    "```ocaml\n",
    "let tab = [|1; 2; 3; 4|];;\n",
    "tab.(0) <- 10;; (* Modification de l'élément à l'index 0 *)\n",
    "Array.iter (fun x -> print_endline (string_of_int x)) tab;;\n",
    "```\n",
    "\n",
    "**Exercice :** Créez un tableau de 5 éléments et écrivez une fonction qui inverse les éléments du tableau."
   ]
  },
  {
   "cell_type": "markdown",
   "id": "2af5d0e7",
   "metadata": {},
   "source": [
    "### 7. Exercices sur les piles\n",
    "\n",
    "Les piles (stacks) sont des structures LIFO (Last In First Out). Voici un exemple d'implémentation de pile en OCaml :\n",
    "\n",
    "```ocaml\n",
    "let pile = ref [];;\n",
    "let push x = pile := x :: !pile;;\n",
    "let pop () = match !pile with\n",
    "  | [] -> None\n",
    "  | x :: xs -> pile := xs; Some x;;\n",
    "```\n",
    "\n",
    "**Exercice :** Implémentez les opérations `push`, `pop` et `peek` pour une pile."
   ]
  },
  {
   "cell_type": "markdown",
   "id": "7b8fae48",
   "metadata": {},
   "source": [
    "### 8. Exercice complet sur les files\n",
    "\n",
    "Les files (queues) sont des structures FIFO (First In First Out). Voici un exemple d'implémentation de file en OCaml :\n",
    "\n",
    "```ocaml\n",
    "let file = ref [];;\n",
    "let enqueue x = file := !file @ [x];;\n",
    "let dequeue () = match !file with\n",
    "  | [] -> None\n",
    "  | x :: xs -> file := xs; Some x;;\n",
    "```\n",
    "\n",
    "**Exercice :** Implémentez une file avec les opérations `enqueue`, `dequeue` et `peek`."
   ]
  },
  {
   "cell_type": "markdown",
   "id": "2efc3c7d",
   "metadata": {},
   "source": [
    "### 9. Utilisation du mot-clé `ref` en OCaml\n",
    "\n",
    "En OCaml, le mot-clé `ref` permet de créer une référence mutable. Cela signifie que vous pouvez changer la valeur d'une variable après l'avoir définie, ce qui est utile lorsque vous avez besoin de créer des variables modifiables dans un langage fonctionnel.\n",
    "\n",
    "Voici un exemple d'utilisation :\n",
    "\n",
    "```ocaml\n",
    "let x = ref 0;;  (* x est une référence sur un entier *)\n",
    "x := 5;;         (* Modification de la valeur de x *)\n",
    "let y = !x;;     (* Accéder à la valeur de x *)\n",
    "```\n",
    "\n",
    "**Exercice :** Utilisez `ref` pour implémenter un compteur qui peut être incrémenté et décrémenté."
   ]
  }
 ],
 "metadata": {},
 "nbformat": 4,
 "nbformat_minor": 5
}
